{
 "cells": [
  {
   "cell_type": "code",
   "execution_count": 1,
   "id": "67bfdc15-1b23-4815-b5eb-ed6f6c3b3dcb",
   "metadata": {},
   "outputs": [],
   "source": [
    "import matplotlib.pyplot as plt\n",
    "import seaborn as sns\n",
    "import pandas as pd\n",
    "import numpy as np\n",
    "from sklearn import preprocessing\n",
    "from sklearn import tree\n",
    "from sklearn import svm\n",
    "from sklearn.preprocessing import StandardScaler\n",
    "from sklearn.preprocessing import MinMaxScaler\n",
    "\n",
    "sns.set_theme(style=\"ticks\",color_codes=True)"
   ]
  },
  {
   "cell_type": "code",
   "execution_count": 2,
   "id": "dcb52809-34db-4c22-bd27-a442ae4ed649",
   "metadata": {},
   "outputs": [
    {
     "name": "stdout",
     "output_type": "stream",
     "text": [
      "       age         workclass  fnlwgt   education  education-num  \\\n",
      "0       39         State-gov   77516   Bachelors             13   \n",
      "1       50  Self-emp-not-inc   83311   Bachelors             13   \n",
      "2       38           Private  215646     HS-grad              9   \n",
      "3       53           Private  234721        11th              7   \n",
      "4       28           Private  338409   Bachelors             13   \n",
      "...    ...               ...     ...         ...            ...   \n",
      "32556   27           Private  257302  Assoc-acdm             12   \n",
      "32557   40           Private  154374     HS-grad              9   \n",
      "32558   58           Private  151910     HS-grad              9   \n",
      "32559   22           Private  201490     HS-grad              9   \n",
      "32560   52      Self-emp-inc  287927     HS-grad              9   \n",
      "\n",
      "           marital-status         occupation   relationship   race     sex  \\\n",
      "0           Never-married       Adm-clerical  Not-in-family  White    Male   \n",
      "1      Married-civ-spouse    Exec-managerial        Husband  White    Male   \n",
      "2                Divorced  Handlers-cleaners  Not-in-family  White    Male   \n",
      "3      Married-civ-spouse  Handlers-cleaners        Husband  Black    Male   \n",
      "4      Married-civ-spouse     Prof-specialty           Wife  Black  Female   \n",
      "...                   ...                ...            ...    ...     ...   \n",
      "32556  Married-civ-spouse       Tech-support           Wife  White  Female   \n",
      "32557  Married-civ-spouse  Machine-op-inspct        Husband  White    Male   \n",
      "32558             Widowed       Adm-clerical      Unmarried  White  Female   \n",
      "32559       Never-married       Adm-clerical      Own-child  White    Male   \n",
      "32560  Married-civ-spouse    Exec-managerial           Wife  White  Female   \n",
      "\n",
      "       capital-gain  capital-loss  hours-per-week native-country income  \n",
      "0              2174             0              40  United-States  <=50K  \n",
      "1                 0             0              13  United-States  <=50K  \n",
      "2                 0             0              40  United-States  <=50K  \n",
      "3                 0             0              40  United-States  <=50K  \n",
      "4                 0             0              40           Cuba  <=50K  \n",
      "...             ...           ...             ...            ...    ...  \n",
      "32556             0             0              38  United-States  <=50K  \n",
      "32557             0             0              40  United-States   >50K  \n",
      "32558             0             0              40  United-States  <=50K  \n",
      "32559             0             0              20  United-States  <=50K  \n",
      "32560         15024             0              40  United-States   >50K  \n",
      "\n",
      "[32561 rows x 15 columns]\n"
     ]
    }
   ],
   "source": [
    "dataset_filename = \"./data/adult.data.csv\"\n",
    "df_all = pd.read_csv(dataset_filename, delimiter=',', header=None,\n",
    "                 names=['age', 'workclass', 'fnlwgt', 'education', 'education-num', 'marital-status',\n",
    "                        'occupation', 'relationship', 'race', 'sex', 'capital-gain', 'capital-loss',\n",
    "                        'hours-per-week', 'native-country','income'], skipinitialspace=True)\n",
    "\n",
    "print(df_all)"
   ]
  },
  {
   "cell_type": "code",
   "execution_count": 3,
   "id": "031fd2f2-f0b5-4c3e-bab2-39c6953278c0",
   "metadata": {},
   "outputs": [
    {
     "name": "stdout",
     "output_type": "stream",
     "text": [
      "pandas                        2.0.3\n",
      "Note: you may need to restart the kernel to use updated packages.\n"
     ]
    }
   ],
   "source": [
    "pip list | findstr pandas"
   ]
  },
  {
   "cell_type": "code",
   "execution_count": 4,
   "id": "f23c0bdf-9e30-48e4-91b6-24aae6c57475",
   "metadata": {},
   "outputs": [
    {
     "ename": "SyntaxError",
     "evalue": "invalid syntax (279920983.py, line 3)",
     "output_type": "error",
     "traceback": [
      "\u001b[1;36m  Cell \u001b[1;32mIn[4], line 3\u001b[1;36m\u001b[0m\n\u001b[1;33m    column =\u001b[0m\n\u001b[1;37m             ^\u001b[0m\n\u001b[1;31mSyntaxError\u001b[0m\u001b[1;31m:\u001b[0m invalid syntax\n"
     ]
    }
   ],
   "source": [
    "from wordcloud import WordCloud\n",
    "\n"
   ]
  },
  {
   "cell_type": "code",
   "execution_count": null,
   "id": "81e42930-e7d7-4081-9979-0a06ea7a61a4",
   "metadata": {},
   "outputs": [],
   "source": [
    "columns = ['marital-status', 'relationship']\n",
    "df = df_all[columns + ['income']]\n",
    "print(df)\n",
    "print('-=' * 30 + '-')\n",
    "\n",
    "pd.plotting.parallel_coordinates(df, class_column = 'income', color = ['blue', 'red'])"
   ]
  },
  {
   "cell_type": "code",
   "execution_count": null,
   "id": "27b6e416-4dfb-4484-93fc-2440aa2ef5b8",
   "metadata": {},
   "outputs": [],
   "source": [
    "columns = ['age', 'capital-gain', 'income']\n",
    "df = df_all[columns]\n",
    "# print(df)\n",
    "# print('-=' * 30 + '-')\n",
    "\n",
    "dfLow = df[df['income'] == '<=50K'][['age', 'capital-gain']]\n",
    "# print(dfLow)\n",
    "# print('-=' * 30 + '-')\n",
    "\n",
    "dfHigh = df[df['income'] == '>50K'][['age', 'capital-gain']]\n",
    "# print(dfHigh)\n",
    "# print('-=' * 30 + '-')\n",
    "\n",
    "fig, ax = plt.subplots(figsize = (10, 6))\n",
    "\n",
    "agesHigh = np.array(dfHigh['age'])\n",
    "capHigh = np.array(dfHigh['capital-gain'])\n",
    "scale = 250.0 * np.random.rand(len(agesHigh))\n",
    "ax.scatter(agesHigh, capHigh, s = scale, c = 'orange', alpha=0.5, edgecolors='none', label='>50K')\n",
    "\n",
    "agesLow = np.array(dfLow['age'])\n",
    "capsLow = np.array(dfLow['capital-gain'])\n",
    "scale = 250.0 * np.random.rand(len(agesLow))\n",
    "ax.scatter(agesLow, capsLow, s = scale, c = 'green', alpha=0.5, edgecolors='none', label='<=50K')\n",
    "\n",
    "ax.set_xlabel('Age')\n",
    "ax.set_ylabel('Capital-gain')\n",
    "ax.legend()\n",
    "\n",
    "plt.show()"
   ]
  }
 ],
 "metadata": {
  "kernelspec": {
   "display_name": "Python 3 (ipykernel)",
   "language": "python",
   "name": "python3"
  },
  "language_info": {
   "codemirror_mode": {
    "name": "ipython",
    "version": 3
   },
   "file_extension": ".py",
   "mimetype": "text/x-python",
   "name": "python",
   "nbconvert_exporter": "python",
   "pygments_lexer": "ipython3",
   "version": "3.11.5"
  }
 },
 "nbformat": 4,
 "nbformat_minor": 5
}
